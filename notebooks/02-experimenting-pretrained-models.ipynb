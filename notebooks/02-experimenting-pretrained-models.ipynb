{
 "cells": [
  {
   "cell_type": "markdown",
   "metadata": {},
   "source": [
    "# Evaluate Multiple Models\n",
    "\n",
    "In this notebook, we will evaluate the performance of four pre-trained models on the wildfire dataset. The model with the best performance will then be selected for further experimentation.\n",
    "\n",
    "The four models are:\n",
    "- `Resnet50`\n",
    "- `VGG16`\n",
    "- `Xception`\n",
    "- `Inception_v3`"
   ]
  },
  {
   "cell_type": "code",
   "execution_count": 1,
   "metadata": {
    "execution": {
     "iopub.execute_input": "2023-01-18T09:29:56.078540Z",
     "iopub.status.busy": "2023-01-18T09:29:56.077820Z",
     "iopub.status.idle": "2023-01-18T09:30:00.933727Z",
     "shell.execute_reply": "2023-01-18T09:30:00.932759Z",
     "shell.execute_reply.started": "2023-01-18T09:29:56.078462Z"
    }
   },
   "outputs": [],
   "source": [
    "# Import required libraries\n",
    "import numpy as np\n",
    "import pandas as pd\n",
    "import matplotlib.pyplot as plt\n",
    "import tensorflow as tf\n",
    "\n",
    "from tensorflow import keras\n",
    "from tensorflow.keras.preprocessing.image import ImageDataGenerator"
   ]
  },
  {
   "cell_type": "code",
   "execution_count": 2,
   "metadata": {
    "_cell_guid": "b1076dfc-b9ad-4769-8c92-a6c4dae69d19",
    "_uuid": "8f2839f25d086af736a60e9eeb907d3b93b6e0e5",
    "execution": {
     "iopub.execute_input": "2023-01-18T09:30:00.945365Z",
     "iopub.status.busy": "2023-01-18T09:30:00.944614Z",
     "iopub.status.idle": "2023-01-18T09:30:00.959447Z",
     "shell.execute_reply": "2023-01-18T09:30:00.958284Z",
     "shell.execute_reply.started": "2023-01-18T09:30:00.945316Z"
    }
   },
   "outputs": [],
   "source": [
    "# Create train directory\n",
    "train_dir = '../dataset/forest_fire/training_and_validation'"
   ]
  },
  {
   "cell_type": "code",
   "execution_count": 3,
   "metadata": {
    "execution": {
     "iopub.execute_input": "2023-01-18T09:30:00.962708Z",
     "iopub.status.busy": "2023-01-18T09:30:00.961476Z",
     "iopub.status.idle": "2023-01-18T09:30:00.978783Z",
     "shell.execute_reply": "2023-01-18T09:30:00.977859Z",
     "shell.execute_reply.started": "2023-01-18T09:30:00.962625Z"
    }
   },
   "outputs": [],
   "source": [
    "# Function to create train and validation data from data generator\n",
    "def create_datagen(model, preprocessor, dir=train_dir, batch_size=32, img_size=(224, 224)):\n",
    "    if model=='resnet50':\n",
    "        datagen = ImageDataGenerator(preprocessing_function=preprocessor,\n",
    "                           validation_split=0.2)\n",
    "    elif model=='vgg16':\n",
    "        datagen = ImageDataGenerator(preprocessing_function=preprocessor,\n",
    "                               validation_split=0.2)\n",
    "    elif model=='xception':\n",
    "        datagen = ImageDataGenerator(preprocessing_function=preprocessor,\n",
    "                               validation_split=0.2)\n",
    "    elif model=='inception_v3':\n",
    "        datagen = ImageDataGenerator(preprocessing_function=preprocessor,\n",
    "                               validation_split=0.2)\n",
    "    else:\n",
    "        pass\n",
    "    \n",
    "    train_data = datagen.flow_from_directory(directory=dir,\n",
    "                                              target_size=img_size,\n",
    "                                              batch_size=32,\n",
    "                                              class_mode='binary',\n",
    "                                              subset='training',\n",
    "                                              seed=42)\n",
    "\n",
    "    val_data = datagen.flow_from_directory(directory=dir,\n",
    "                                              target_size=img_size,\n",
    "                                              batch_size=32,\n",
    "                                              class_mode='binary',\n",
    "                                              subset='validation',\n",
    "                                              seed=42)\n",
    "    \n",
    "    return train_data, val_data"
   ]
  },
  {
   "cell_type": "code",
   "execution_count": 4,
   "metadata": {
    "execution": {
     "iopub.execute_input": "2023-01-18T09:30:00.983679Z",
     "iopub.status.busy": "2023-01-18T09:30:00.983001Z",
     "iopub.status.idle": "2023-01-18T09:30:01.923090Z",
     "shell.execute_reply": "2023-01-18T09:30:01.921877Z",
     "shell.execute_reply.started": "2023-01-18T09:30:00.983641Z"
    }
   },
   "outputs": [
    {
     "name": "stdout",
     "output_type": "stream",
     "text": [
      "Found 1467 images belonging to 2 classes.\n",
      "Found 365 images belonging to 2 classes.\n",
      "Found 1467 images belonging to 2 classes.\n",
      "Found 365 images belonging to 2 classes.\n",
      "Found 1467 images belonging to 2 classes.\n",
      "Found 365 images belonging to 2 classes.\n",
      "Found 1467 images belonging to 2 classes.\n",
      "Found 365 images belonging to 2 classes.\n"
     ]
    }
   ],
   "source": [
    "# resnet50\n",
    "train_ds_resnet, val_ds_resnet = create_datagen(model='resnet50', preprocessor=tf.keras.applications.resnet50.preprocess_input)\n",
    "# vgg16\n",
    "train_ds_vgg, val_ds_vgg = create_datagen(model='vgg16', preprocessor=tf.keras.applications.vgg16.preprocess_input)\n",
    "# xception\n",
    "train_ds_xception, val_ds_xception = create_datagen(model='xception', preprocessor=tf.keras.applications.xception.preprocess_input)\n",
    "# inception_v3\n",
    "train_ds_inception, val_ds_inception = create_datagen(model='inception_v3', preprocessor=tf.keras.applications.inception_v3.preprocess_input)"
   ]
  },
  {
   "cell_type": "code",
   "execution_count": 5,
   "metadata": {
    "execution": {
     "iopub.execute_input": "2023-01-18T09:30:01.926382Z",
     "iopub.status.busy": "2023-01-18T09:30:01.926113Z",
     "iopub.status.idle": "2023-01-18T09:30:01.932749Z",
     "shell.execute_reply": "2023-01-18T09:30:01.931802Z",
     "shell.execute_reply.started": "2023-01-18T09:30:01.926356Z"
    }
   },
   "outputs": [],
   "source": [
    "# Function to define model\n",
    "def define_model(base_model):\n",
    "    base_model = base_model\n",
    "    base_model.trainable = False\n",
    "\n",
    "    inputs = tf.keras.layers.Input(shape=(224, 224, 3))\n",
    "    x = base_model(inputs)\n",
    "    x = tf.keras.layers.GlobalAveragePooling2D()(x)\n",
    "    outputs = tf.keras.layers.Dense(1, activation='sigmoid')(x)\n",
    "\n",
    "    model = tf.keras.Model(inputs, outputs)\n",
    "    model.compile(loss='binary_crossentropy',\n",
    "                    optimizer=tf.keras.optimizers.Adam(),\n",
    "                    metrics=['accuracy'])\n",
    "    \n",
    "    return model"
   ]
  },
  {
   "cell_type": "code",
   "execution_count": 6,
   "metadata": {
    "execution": {
     "iopub.execute_input": "2023-01-18T09:30:01.935286Z",
     "iopub.status.busy": "2023-01-18T09:30:01.934575Z",
     "iopub.status.idle": "2023-01-18T09:30:13.453794Z",
     "shell.execute_reply": "2023-01-18T09:30:13.452848Z",
     "shell.execute_reply.started": "2023-01-18T09:30:01.935251Z"
    }
   },
   "outputs": [
    {
     "name": "stderr",
     "output_type": "stream",
     "text": [
      "2023-01-18 09:30:02.052548: I tensorflow/stream_executor/cuda/cuda_gpu_executor.cc:937] successful NUMA node read from SysFS had negative value (-1), but there must be at least one NUMA node, so returning NUMA node zero\n",
      "2023-01-18 09:30:02.149768: I tensorflow/stream_executor/cuda/cuda_gpu_executor.cc:937] successful NUMA node read from SysFS had negative value (-1), but there must be at least one NUMA node, so returning NUMA node zero\n",
      "2023-01-18 09:30:02.150595: I tensorflow/stream_executor/cuda/cuda_gpu_executor.cc:937] successful NUMA node read from SysFS had negative value (-1), but there must be at least one NUMA node, so returning NUMA node zero\n",
      "2023-01-18 09:30:02.152273: I tensorflow/core/platform/cpu_feature_guard.cc:142] This TensorFlow binary is optimized with oneAPI Deep Neural Network Library (oneDNN) to use the following CPU instructions in performance-critical operations:  AVX2 AVX512F FMA\n",
      "To enable them in other operations, rebuild TensorFlow with the appropriate compiler flags.\n",
      "2023-01-18 09:30:02.152536: I tensorflow/stream_executor/cuda/cuda_gpu_executor.cc:937] successful NUMA node read from SysFS had negative value (-1), but there must be at least one NUMA node, so returning NUMA node zero\n",
      "2023-01-18 09:30:02.153273: I tensorflow/stream_executor/cuda/cuda_gpu_executor.cc:937] successful NUMA node read from SysFS had negative value (-1), but there must be at least one NUMA node, so returning NUMA node zero\n",
      "2023-01-18 09:30:02.153928: I tensorflow/stream_executor/cuda/cuda_gpu_executor.cc:937] successful NUMA node read from SysFS had negative value (-1), but there must be at least one NUMA node, so returning NUMA node zero\n",
      "2023-01-18 09:30:04.291949: I tensorflow/stream_executor/cuda/cuda_gpu_executor.cc:937] successful NUMA node read from SysFS had negative value (-1), but there must be at least one NUMA node, so returning NUMA node zero\n",
      "2023-01-18 09:30:04.292704: I tensorflow/stream_executor/cuda/cuda_gpu_executor.cc:937] successful NUMA node read from SysFS had negative value (-1), but there must be at least one NUMA node, so returning NUMA node zero\n",
      "2023-01-18 09:30:04.293419: I tensorflow/stream_executor/cuda/cuda_gpu_executor.cc:937] successful NUMA node read from SysFS had negative value (-1), but there must be at least one NUMA node, so returning NUMA node zero\n",
      "2023-01-18 09:30:04.294013: I tensorflow/core/common_runtime/gpu/gpu_device.cc:1510] Created device /job:localhost/replica:0/task:0/device:GPU:0 with 15401 MB memory:  -> device: 0, name: Tesla P100-PCIE-16GB, pci bus id: 0000:00:04.0, compute capability: 6.0\n"
     ]
    },
    {
     "name": "stdout",
     "output_type": "stream",
     "text": [
      "Downloading data from https://storage.googleapis.com/tensorflow/keras-applications/resnet/resnet50_weights_tf_dim_ordering_tf_kernels_notop.h5\n",
      "94773248/94765736 [==============================] - 1s 0us/step\n",
      "94781440/94765736 [==============================] - 1s 0us/step\n",
      "Downloading data from https://storage.googleapis.com/tensorflow/keras-applications/vgg16/vgg16_weights_tf_dim_ordering_tf_kernels_notop.h5\n",
      "58892288/58889256 [==============================] - 0s 0us/step\n",
      "58900480/58889256 [==============================] - 0s 0us/step\n",
      "Downloading data from https://storage.googleapis.com/tensorflow/keras-applications/xception/xception_weights_tf_dim_ordering_tf_kernels_notop.h5\n",
      "83689472/83683744 [==============================] - 1s 0us/step\n",
      "83697664/83683744 [==============================] - 1s 0us/step\n",
      "Downloading data from https://storage.googleapis.com/tensorflow/keras-applications/inception_v3/inception_v3_weights_tf_dim_ordering_tf_kernels_notop.h5\n",
      "87916544/87910968 [==============================] - 0s 0us/step\n",
      "87924736/87910968 [==============================] - 0s 0us/step\n"
     ]
    }
   ],
   "source": [
    "# Instantiate models\n",
    "resnet50_model = define_model(base_model=tf.keras.applications.resnet50.ResNet50(include_top=False))\n",
    "vgg16_model = define_model(base_model=tf.keras.applications.vgg16.VGG16(include_top=False))\n",
    "xception_model = define_model(base_model=tf.keras.applications.xception.Xception(include_top=False))\n",
    "inception_v3_model = define_model(base_model=tf.keras.applications.inception_v3.InceptionV3(include_top=False))"
   ]
  },
  {
   "cell_type": "code",
   "execution_count": 7,
   "metadata": {
    "execution": {
     "iopub.execute_input": "2023-01-18T09:30:13.455567Z",
     "iopub.status.busy": "2023-01-18T09:30:13.455216Z",
     "iopub.status.idle": "2023-01-18T09:30:13.465215Z",
     "shell.execute_reply": "2023-01-18T09:30:13.462115Z",
     "shell.execute_reply.started": "2023-01-18T09:30:13.455531Z"
    }
   },
   "outputs": [],
   "source": [
    "# Function to train model\n",
    "def model_training(model, train_ds, val_ds):\n",
    "    history = model.fit(train_ds,\n",
    "                        epochs=10,\n",
    "                        steps_per_epoch=len(train_ds),\n",
    "                        validation_data=val_ds,\n",
    "                        validation_steps=len(val_ds))\n",
    "    \n",
    "    return history, model"
   ]
  },
  {
   "cell_type": "code",
   "execution_count": 8,
   "metadata": {
    "execution": {
     "iopub.execute_input": "2023-01-18T09:30:13.467755Z",
     "iopub.status.busy": "2023-01-18T09:30:13.467162Z",
     "iopub.status.idle": "2023-01-18T09:31:34.918273Z",
     "shell.execute_reply": "2023-01-18T09:31:34.917345Z",
     "shell.execute_reply.started": "2023-01-18T09:30:13.467716Z"
    }
   },
   "outputs": [
    {
     "name": "stderr",
     "output_type": "stream",
     "text": [
      "2023-01-18 09:30:13.910138: I tensorflow/compiler/mlir/mlir_graph_optimization_pass.cc:185] None of the MLIR Optimization Passes are enabled (registered 2)\n"
     ]
    },
    {
     "name": "stdout",
     "output_type": "stream",
     "text": [
      "Epoch 1/10\n"
     ]
    },
    {
     "name": "stderr",
     "output_type": "stream",
     "text": [
      "2023-01-18 09:30:17.988125: I tensorflow/stream_executor/cuda/cuda_dnn.cc:369] Loaded cuDNN version 8005\n"
     ]
    },
    {
     "name": "stdout",
     "output_type": "stream",
     "text": [
      "46/46 [==============================] - 21s 249ms/step - loss: 0.1769 - accuracy: 0.9366 - val_loss: 0.0836 - val_accuracy: 0.9726\n",
      "Epoch 2/10\n",
      "46/46 [==============================] - 7s 152ms/step - loss: 0.0356 - accuracy: 0.9925 - val_loss: 0.0633 - val_accuracy: 0.9808\n",
      "Epoch 3/10\n",
      "46/46 [==============================] - 7s 147ms/step - loss: 0.0236 - accuracy: 0.9945 - val_loss: 0.0559 - val_accuracy: 0.9808\n",
      "Epoch 4/10\n",
      "46/46 [==============================] - 7s 143ms/step - loss: 0.0169 - accuracy: 0.9980 - val_loss: 0.0511 - val_accuracy: 0.9836\n",
      "Epoch 5/10\n",
      "46/46 [==============================] - 6s 140ms/step - loss: 0.0136 - accuracy: 0.9980 - val_loss: 0.0472 - val_accuracy: 0.9863\n",
      "Epoch 6/10\n",
      "46/46 [==============================] - 7s 140ms/step - loss: 0.0106 - accuracy: 0.9980 - val_loss: 0.0479 - val_accuracy: 0.9836\n",
      "Epoch 7/10\n",
      "46/46 [==============================] - 7s 149ms/step - loss: 0.0090 - accuracy: 0.9993 - val_loss: 0.0455 - val_accuracy: 0.9836\n",
      "Epoch 8/10\n",
      "46/46 [==============================] - 6s 139ms/step - loss: 0.0075 - accuracy: 0.9986 - val_loss: 0.0435 - val_accuracy: 0.9863\n",
      "Epoch 9/10\n",
      "46/46 [==============================] - 7s 144ms/step - loss: 0.0065 - accuracy: 0.9993 - val_loss: 0.0448 - val_accuracy: 0.9836\n",
      "Epoch 10/10\n",
      "46/46 [==============================] - 7s 143ms/step - loss: 0.0056 - accuracy: 0.9993 - val_loss: 0.0433 - val_accuracy: 0.9863\n"
     ]
    }
   ],
   "source": [
    "# Train resnet50\n",
    "resent_history, resnet_model = model_training(model=resnet50_model,\n",
    "                                              train_ds=train_ds_resnet,\n",
    "                                              val_ds=val_ds_resnet)"
   ]
  },
  {
   "cell_type": "code",
   "execution_count": 9,
   "metadata": {
    "execution": {
     "iopub.execute_input": "2023-01-18T09:31:34.920426Z",
     "iopub.status.busy": "2023-01-18T09:31:34.920061Z",
     "iopub.status.idle": "2023-01-18T09:32:51.853575Z",
     "shell.execute_reply": "2023-01-18T09:32:51.852515Z",
     "shell.execute_reply.started": "2023-01-18T09:31:34.920390Z"
    }
   },
   "outputs": [
    {
     "name": "stdout",
     "output_type": "stream",
     "text": [
      "Epoch 1/10\n",
      "46/46 [==============================] - 14s 241ms/step - loss: 0.2630 - accuracy: 0.8889 - val_loss: 0.1749 - val_accuracy: 0.9425\n",
      "Epoch 2/10\n",
      "46/46 [==============================] - 7s 141ms/step - loss: 0.0776 - accuracy: 0.9741 - val_loss: 0.1327 - val_accuracy: 0.9589\n",
      "Epoch 3/10\n",
      "46/46 [==============================] - 6s 139ms/step - loss: 0.0515 - accuracy: 0.9816 - val_loss: 0.1166 - val_accuracy: 0.9589\n",
      "Epoch 4/10\n",
      "46/46 [==============================] - 6s 140ms/step - loss: 0.0379 - accuracy: 0.9884 - val_loss: 0.1065 - val_accuracy: 0.9589\n",
      "Epoch 5/10\n",
      "46/46 [==============================] - 7s 146ms/step - loss: 0.0301 - accuracy: 0.9925 - val_loss: 0.1056 - val_accuracy: 0.9644\n",
      "Epoch 6/10\n",
      "46/46 [==============================] - 7s 142ms/step - loss: 0.0243 - accuracy: 0.9952 - val_loss: 0.0915 - val_accuracy: 0.9644\n",
      "Epoch 7/10\n",
      "46/46 [==============================] - 7s 144ms/step - loss: 0.0204 - accuracy: 0.9973 - val_loss: 0.0929 - val_accuracy: 0.9671\n",
      "Epoch 8/10\n",
      "46/46 [==============================] - 6s 138ms/step - loss: 0.0174 - accuracy: 0.9980 - val_loss: 0.0867 - val_accuracy: 0.9699\n",
      "Epoch 9/10\n",
      "46/46 [==============================] - 7s 143ms/step - loss: 0.0156 - accuracy: 0.9980 - val_loss: 0.0915 - val_accuracy: 0.9699\n",
      "Epoch 10/10\n",
      "46/46 [==============================] - 7s 148ms/step - loss: 0.0138 - accuracy: 0.9980 - val_loss: 0.0862 - val_accuracy: 0.9699\n"
     ]
    }
   ],
   "source": [
    "# Train vgg16\n",
    "vgg_history, vgg_model = model_training(model=vgg16_model,\n",
    "                                        train_ds=train_ds_vgg,\n",
    "                                        val_ds=val_ds_vgg)"
   ]
  },
  {
   "cell_type": "code",
   "execution_count": 10,
   "metadata": {
    "execution": {
     "iopub.execute_input": "2023-01-18T09:32:51.856026Z",
     "iopub.status.busy": "2023-01-18T09:32:51.855608Z",
     "iopub.status.idle": "2023-01-18T09:34:05.021654Z",
     "shell.execute_reply": "2023-01-18T09:34:05.020657Z",
     "shell.execute_reply.started": "2023-01-18T09:32:51.855987Z"
    }
   },
   "outputs": [
    {
     "name": "stdout",
     "output_type": "stream",
     "text": [
      "Epoch 1/10\n",
      "46/46 [==============================] - 10s 160ms/step - loss: 0.2679 - accuracy: 0.9625 - val_loss: 0.1653 - val_accuracy: 0.9644\n",
      "Epoch 2/10\n",
      "46/46 [==============================] - 6s 131ms/step - loss: 0.0975 - accuracy: 0.9877 - val_loss: 0.1188 - val_accuracy: 0.9644\n",
      "Epoch 3/10\n",
      "46/46 [==============================] - 7s 141ms/step - loss: 0.0684 - accuracy: 0.9905 - val_loss: 0.1040 - val_accuracy: 0.9699\n",
      "Epoch 4/10\n",
      "46/46 [==============================] - 6s 132ms/step - loss: 0.0559 - accuracy: 0.9884 - val_loss: 0.0913 - val_accuracy: 0.9644\n",
      "Epoch 5/10\n",
      "46/46 [==============================] - 6s 123ms/step - loss: 0.0475 - accuracy: 0.9925 - val_loss: 0.0835 - val_accuracy: 0.9671\n",
      "Epoch 6/10\n",
      "46/46 [==============================] - 6s 140ms/step - loss: 0.0417 - accuracy: 0.9925 - val_loss: 0.0791 - val_accuracy: 0.9671\n",
      "Epoch 7/10\n",
      "46/46 [==============================] - 7s 146ms/step - loss: 0.0373 - accuracy: 0.9939 - val_loss: 0.0761 - val_accuracy: 0.9726\n",
      "Epoch 8/10\n",
      "46/46 [==============================] - 6s 130ms/step - loss: 0.0339 - accuracy: 0.9959 - val_loss: 0.0722 - val_accuracy: 0.9699\n",
      "Epoch 9/10\n",
      "46/46 [==============================] - 6s 128ms/step - loss: 0.0314 - accuracy: 0.9959 - val_loss: 0.0695 - val_accuracy: 0.9699\n",
      "Epoch 10/10\n",
      "46/46 [==============================] - 6s 130ms/step - loss: 0.0287 - accuracy: 0.9966 - val_loss: 0.0674 - val_accuracy: 0.9726\n"
     ]
    }
   ],
   "source": [
    "# Train xception\n",
    "xception_history, xception_model = model_training(model=xception_model,\n",
    "                                                  train_ds=train_ds_xception,\n",
    "                                                  val_ds=val_ds_xception) "
   ]
  },
  {
   "cell_type": "code",
   "execution_count": 11,
   "metadata": {
    "execution": {
     "iopub.execute_input": "2023-01-18T09:34:05.024556Z",
     "iopub.status.busy": "2023-01-18T09:34:05.023738Z",
     "iopub.status.idle": "2023-01-18T09:35:17.133728Z",
     "shell.execute_reply": "2023-01-18T09:35:17.132635Z",
     "shell.execute_reply.started": "2023-01-18T09:34:05.024514Z"
    }
   },
   "outputs": [
    {
     "name": "stdout",
     "output_type": "stream",
     "text": [
      "Epoch 1/10\n",
      "46/46 [==============================] - 11s 158ms/step - loss: 0.2489 - accuracy: 0.8909 - val_loss: 0.1293 - val_accuracy: 0.9616\n",
      "Epoch 2/10\n",
      "46/46 [==============================] - 6s 134ms/step - loss: 0.0710 - accuracy: 0.9857 - val_loss: 0.0994 - val_accuracy: 0.9589\n",
      "Epoch 3/10\n",
      "46/46 [==============================] - 5s 115ms/step - loss: 0.0519 - accuracy: 0.9870 - val_loss: 0.0914 - val_accuracy: 0.9644\n",
      "Epoch 4/10\n",
      "46/46 [==============================] - 6s 124ms/step - loss: 0.0419 - accuracy: 0.9898 - val_loss: 0.0847 - val_accuracy: 0.9562\n",
      "Epoch 5/10\n",
      "46/46 [==============================] - 6s 122ms/step - loss: 0.0355 - accuracy: 0.9911 - val_loss: 0.0849 - val_accuracy: 0.9616\n",
      "Epoch 6/10\n",
      "46/46 [==============================] - 6s 124ms/step - loss: 0.0324 - accuracy: 0.9918 - val_loss: 0.0833 - val_accuracy: 0.9562\n",
      "Epoch 7/10\n",
      "46/46 [==============================] - 6s 133ms/step - loss: 0.0265 - accuracy: 0.9918 - val_loss: 0.0787 - val_accuracy: 0.9589\n",
      "Epoch 8/10\n",
      "46/46 [==============================] - 6s 119ms/step - loss: 0.0235 - accuracy: 0.9945 - val_loss: 0.0844 - val_accuracy: 0.9589\n",
      "Epoch 9/10\n",
      "46/46 [==============================] - 6s 130ms/step - loss: 0.0217 - accuracy: 0.9952 - val_loss: 0.0741 - val_accuracy: 0.9589\n",
      "Epoch 10/10\n",
      "46/46 [==============================] - 5s 115ms/step - loss: 0.0190 - accuracy: 0.9945 - val_loss: 0.0762 - val_accuracy: 0.9507\n"
     ]
    }
   ],
   "source": [
    "# Train inception_v3\n",
    "inception_history, inception_model = model_training(model=inception_v3_model,\n",
    "                                                    train_ds=train_ds_inception,\n",
    "                                                    val_ds=val_ds_inception)"
   ]
  },
  {
   "cell_type": "code",
   "execution_count": 12,
   "metadata": {
    "execution": {
     "iopub.execute_input": "2023-01-18T09:35:17.136097Z",
     "iopub.status.busy": "2023-01-18T09:35:17.135667Z",
     "iopub.status.idle": "2023-01-18T09:35:17.145239Z",
     "shell.execute_reply": "2023-01-18T09:35:17.144233Z",
     "shell.execute_reply.started": "2023-01-18T09:35:17.136060Z"
    }
   },
   "outputs": [],
   "source": [
    "# Function to plot loss and accuracy of the model\n",
    "def plot_loss_curves(history, title_loss, title_acc):\n",
    "    # training and validation loss\n",
    "    loss = history.history['loss']\n",
    "    val_loss = history.history['val_loss']\n",
    "\n",
    "    # training and validation accuracy\n",
    "    accuracy = history.history['accuracy']\n",
    "    val_accuracy = history.history['val_accuracy']\n",
    "\n",
    "    # number of epochs the model was trained\n",
    "    epochs = range(len(history.history['loss']))\n",
    "\n",
    "    # plot loss\n",
    "    plt.figure(figsize=(12,4))\n",
    "    plt.subplot(1, 2, 1)\n",
    "    plt.plot(epochs, loss, label='training_loss')\n",
    "    plt.plot(epochs, val_loss, label='val_loss')\n",
    "    plt.title(title_loss)\n",
    "    plt.xlabel('epochs')\n",
    "    plt.legend()\n",
    "\n",
    "    # plot accuracy\n",
    "    plt.subplot(1, 2, 2)\n",
    "    plt.plot(epochs, accuracy, label='training_accuracy')\n",
    "    plt.plot(epochs, val_accuracy, label='val_accuracy')\n",
    "    plt.title(title_acc)\n",
    "    plt.xlabel('epochs')\n",
    "    plt.legend()\n",
    "    \n",
    "    plt.show()"
   ]
  },
  {
   "cell_type": "code",
   "execution_count": 13,
   "metadata": {
    "execution": {
     "iopub.execute_input": "2023-01-18T09:35:17.150024Z",
     "iopub.status.busy": "2023-01-18T09:35:17.149697Z",
     "iopub.status.idle": "2023-01-18T09:35:17.523629Z",
     "shell.execute_reply": "2023-01-18T09:35:17.522511Z",
     "shell.execute_reply.started": "2023-01-18T09:35:17.149999Z"
    }
   },
   "outputs": [
    {
     "data": {
      "image/png": "[encoded data removed]",
      "text/plain": [
       "<Figure size 864x288 with 2 Axes>"
      ]
     },
     "metadata": {
      "needs_background": "light"
     },
     "output_type": "display_data"
    }
   ],
   "source": [
    "# Plot resnet loss curves\n",
    "plot_loss_curves(resent_history, 'resnet loss', 'resnet accuracy')"
   ]
  },
  {
   "cell_type": "code",
   "execution_count": 14,
   "metadata": {
    "execution": {
     "iopub.execute_input": "2023-01-18T09:35:17.525731Z",
     "iopub.status.busy": "2023-01-18T09:35:17.525130Z",
     "iopub.status.idle": "2023-01-18T09:35:17.865735Z",
     "shell.execute_reply": "2023-01-18T09:35:17.864814Z",
     "shell.execute_reply.started": "2023-01-18T09:35:17.525693Z"
    }
   },
   "outputs": [
    {
     "data": {
      "image/png": "[encoded data removed]",
      "text/plain": [
       "<Figure size 864x288 with 2 Axes>"
      ]
     },
     "metadata": {
      "needs_background": "light"
     },
     "output_type": "display_data"
    }
   ],
   "source": [
    "# Plot vgg loss curves\n",
    "plot_loss_curves(vgg_history, 'vgg loss', 'vgg accuracy')"
   ]
  },
  {
   "cell_type": "code",
   "execution_count": 15,
   "metadata": {
    "execution": {
     "iopub.execute_input": "2023-01-18T09:35:17.867690Z",
     "iopub.status.busy": "2023-01-18T09:35:17.867316Z",
     "iopub.status.idle": "2023-01-18T09:35:18.208663Z",
     "shell.execute_reply": "2023-01-18T09:35:18.207728Z",
     "shell.execute_reply.started": "2023-01-18T09:35:17.867653Z"
    }
   },
   "outputs": [
    {
     "data": {
      "image/png": "[encoded data removed]",
      "text/plain": [
       "<Figure size 864x288 with 2 Axes>"
      ]
     },
     "metadata": {
      "needs_background": "light"
     },
     "output_type": "display_data"
    }
   ],
   "source": [
    "# Plot xception loss curves\n",
    "plot_loss_curves(xception_history, 'xception loss', 'xception accuracy')"
   ]
  },
  {
   "cell_type": "code",
   "execution_count": 16,
   "metadata": {
    "execution": {
     "iopub.execute_input": "2023-01-18T09:35:18.210964Z",
     "iopub.status.busy": "2023-01-18T09:35:18.210284Z",
     "iopub.status.idle": "2023-01-18T09:35:18.544495Z",
     "shell.execute_reply": "2023-01-18T09:35:18.543557Z",
     "shell.execute_reply.started": "2023-01-18T09:35:18.210925Z"
    }
   },
   "outputs": [
    {
     "data": {
      "image/png": "[encoded data removed]",
      "text/plain": [
       "<Figure size 864x288 with 2 Axes>"
      ]
     },
     "metadata": {
      "needs_background": "light"
     },
     "output_type": "display_data"
    }
   ],
   "source": [
    "# Plot inception loss curves\n",
    "plot_loss_curves(inception_history, 'inception loss', 'inception accuracy')"
   ]
  },
  {
   "cell_type": "code",
   "execution_count": 17,
   "metadata": {
    "execution": {
     "iopub.execute_input": "2023-01-18T09:35:18.546050Z",
     "iopub.status.busy": "2023-01-18T09:35:18.545696Z",
     "iopub.status.idle": "2023-01-18T09:35:20.298762Z",
     "shell.execute_reply": "2023-01-18T09:35:20.297905Z",
     "shell.execute_reply.started": "2023-01-18T09:35:18.546015Z"
    }
   },
   "outputs": [
    {
     "name": "stdout",
     "output_type": "stream",
     "text": [
      "12/12 [==============================] - 2s 129ms/step - loss: 0.0433 - accuracy: 0.9863\n"
     ]
    }
   ],
   "source": [
    "# Evaluate resnet50\n",
    "resnet_loss, resnet_acc = resnet_model.evaluate(val_ds_resnet)"
   ]
  },
  {
   "cell_type": "code",
   "execution_count": 18,
   "metadata": {
    "execution": {
     "iopub.execute_input": "2023-01-18T09:35:20.303529Z",
     "iopub.status.busy": "2023-01-18T09:35:20.302936Z",
     "iopub.status.idle": "2023-01-18T09:35:21.804485Z",
     "shell.execute_reply": "2023-01-18T09:35:21.803518Z",
     "shell.execute_reply.started": "2023-01-18T09:35:20.303487Z"
    }
   },
   "outputs": [
    {
     "name": "stdout",
     "output_type": "stream",
     "text": [
      "12/12 [==============================] - 1s 105ms/step - loss: 0.0862 - accuracy: 0.9699\n"
     ]
    }
   ],
   "source": [
    "# Evaluate vgg16\n",
    "vgg_loss, vgg_acc = vgg_model.evaluate(val_ds_vgg)"
   ]
  },
  {
   "cell_type": "code",
   "execution_count": 19,
   "metadata": {
    "execution": {
     "iopub.execute_input": "2023-01-18T09:35:21.807106Z",
     "iopub.status.busy": "2023-01-18T09:35:21.805736Z",
     "iopub.status.idle": "2023-01-18T09:35:23.211562Z",
     "shell.execute_reply": "2023-01-18T09:35:23.210625Z",
     "shell.execute_reply.started": "2023-01-18T09:35:21.807066Z"
    }
   },
   "outputs": [
    {
     "name": "stdout",
     "output_type": "stream",
     "text": [
      "12/12 [==============================] - 1s 91ms/step - loss: 0.0674 - accuracy: 0.9726\n"
     ]
    }
   ],
   "source": [
    "# Evaluate xception\n",
    "xception_loss, xception_acc = xception_model.evaluate(val_ds_xception)"
   ]
  },
  {
   "cell_type": "code",
   "execution_count": 20,
   "metadata": {
    "execution": {
     "iopub.execute_input": "2023-01-18T09:35:23.215134Z",
     "iopub.status.busy": "2023-01-18T09:35:23.214816Z",
     "iopub.status.idle": "2023-01-18T09:35:25.909677Z",
     "shell.execute_reply": "2023-01-18T09:35:25.908683Z",
     "shell.execute_reply.started": "2023-01-18T09:35:23.215107Z"
    }
   },
   "outputs": [
    {
     "name": "stdout",
     "output_type": "stream",
     "text": [
      "12/12 [==============================] - 1s 110ms/step - loss: 0.0762 - accuracy: 0.9507\n"
     ]
    }
   ],
   "source": [
    "# Evaluate inception\n",
    "inception_loss, inception_acc = inception_model.evaluate(val_ds_inception)"
   ]
  },
  {
   "cell_type": "code",
   "execution_count": 21,
   "metadata": {
    "execution": {
     "iopub.execute_input": "2023-01-18T09:35:25.911790Z",
     "iopub.status.busy": "2023-01-18T09:35:25.911315Z",
     "iopub.status.idle": "2023-01-18T09:35:25.937311Z",
     "shell.execute_reply": "2023-01-18T09:35:25.936116Z",
     "shell.execute_reply.started": "2023-01-18T09:35:25.911751Z"
    }
   },
   "outputs": [
    {
     "data": {
      "text/html": [
       "<div>\n",
       "<style scoped>\n",
       "    .dataframe tbody tr th:only-of-type {\n",
       "        vertical-align: middle;\n",
       "    }\n",
       "\n",
       "    .dataframe tbody tr th {\n",
       "        vertical-align: top;\n",
       "    }\n",
       "\n",
       "    .dataframe thead th {\n",
       "        text-align: right;\n",
       "    }\n",
       "</style>\n",
       "<table border=\"1\" class=\"dataframe\">\n",
       "  <thead>\n",
       "    <tr style=\"text-align: right;\">\n",
       "      <th></th>\n",
       "      <th>loss</th>\n",
       "      <th>accuracy</th>\n",
       "    </tr>\n",
       "  </thead>\n",
       "  <tbody>\n",
       "    <tr>\n",
       "      <th>resnet50</th>\n",
       "      <td>0.043299</td>\n",
       "      <td>0.986301</td>\n",
       "    </tr>\n",
       "    <tr>\n",
       "      <th>xception</th>\n",
       "      <td>0.067409</td>\n",
       "      <td>0.972603</td>\n",
       "    </tr>\n",
       "    <tr>\n",
       "      <th>vgg16</th>\n",
       "      <td>0.086150</td>\n",
       "      <td>0.969863</td>\n",
       "    </tr>\n",
       "    <tr>\n",
       "      <th>inception_v3</th>\n",
       "      <td>0.076205</td>\n",
       "      <td>0.950685</td>\n",
       "    </tr>\n",
       "  </tbody>\n",
       "</table>\n",
       "</div>"
      ],
      "text/plain": [
       "                  loss  accuracy\n",
       "resnet50      0.043299  0.986301\n",
       "xception      0.067409  0.972603\n",
       "vgg16         0.086150  0.969863\n",
       "inception_v3  0.076205  0.950685"
      ]
     },
     "execution_count": 21,
     "metadata": {},
     "output_type": "execute_result"
    }
   ],
   "source": [
    "# Create dataframe to display loss and accuracy of models after evaluation\n",
    "performance_df = pd.DataFrame({'loss': [resnet_loss, vgg_loss, xception_loss, inception_loss],\n",
    "                               'accuracy': [resnet_acc, vgg_acc, xception_acc, inception_acc]},\n",
    "                               index=['resnet50', 'vgg16', 'xception', 'inception_v3'])\n",
    "performance_df.sort_values(by='accuracy', ascending=False)"
   ]
  },
  {
   "cell_type": "markdown",
   "metadata": {},
   "source": [
    "Given that there is little variance in accuracy among the models, we will proceed with further experimentation using `Xception`, as it has a smaller size in comparison to the other models.\n",
    "\n",
    "For more details: https://keras.io/api/applications/"
   ]
  }
 ],
 "metadata": {
  "kernelspec": {
   "display_name": "Python 3 (ipykernel)",
   "language": "python",
   "name": "python3"
  },
  "language_info": {
   "codemirror_mode": {
    "name": "ipython",
    "version": 3
   },
   "file_extension": ".py",
   "mimetype": "text/x-python",
   "name": "python",
   "nbconvert_exporter": "python",
   "pygments_lexer": "ipython3",
   "version": "3.9.15"
  }
 },
 "nbformat": 4,
 "nbformat_minor": 4
}
